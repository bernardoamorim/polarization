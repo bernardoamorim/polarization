{
 "cells": [
  {
   "cell_type": "code",
   "execution_count": 123,
   "metadata": {},
   "outputs": [],
   "source": [
    "import numpy as np\n",
    "import math\n",
    "\n",
    "class InfGraph:\n",
    "    \n",
    "    def __init__(self, num_agts = 0):\n",
    "        self._num_agts = num_agts\n",
    "        self._bel = np.zeros(num_agts)\n",
    "        self._graph = np.zeros((num_agts,num_agts))\n",
    "        \n",
    "    def change_node(self, i, j, inf):\n",
    "        self._graph[i][j] = inf\n",
    "        \n",
    "    def build_graph(self, graph_type=\"clique\", inf = [0.5], bel = 0):\n",
    "        if(graph_type == \"clique\"):\n",
    "            for i in range(self._num_agts):\n",
    "                for j in range(self._num_agts):\n",
    "                    self.change_node(i,j,inf)\n",
    "                    \n",
    "        elif(graph_type == \"disconnected\"):\n",
    "            for i in range(self._num_agts):\n",
    "                for j in range(self._num_agts):\n",
    "                    if(i+1 <= math.ceil(self._num_agts/2) and j+1 <= math.ceil(self._num_agts/2) or\n",
    "                       i+1 > math.ceil(self._num_agts/2) and j+1 > math.ceil(self._num_agts/2)):\n",
    "                        self.change_node(i, j, inf)\n",
    "                    else:\n",
    "                        self.change_node(i, j, 0)\n",
    "                \n",
    "        elif(graph_type == \"faintly-connected\"):\n",
    "            for i in range(self._num_agts):\n",
    "                for j in range(self._num_agts):\n",
    "                    if(i+1 <= math.ceil(self._num_agts/2) and j+1 <= math.ceil(self._num_agts/2) or\n",
    "                       i+1 > math.ceil(self._num_agts/2) and j+1 > math.ceil(self._num_agts/2)):\n",
    "                        self.change_node(i, j, inf[0])\n",
    "                    else:\n",
    "                        self.change_node(i, j, inf[1])\n",
    "                        \n",
    "    def build_bel(self, bel_type=\"uniform\", inf=[0.5]):\n",
    "        n = self._num_agts\n",
    "        if(bel_type == \"uniform\"):\n",
    "            for i in range(self._num_agts):\n",
    "                self._bel[i] = i/(n-1)\n",
    "                    \n",
    "        elif(bel_type == \"mildly-polarized\"):\n",
    "            for i in range(n):\n",
    "                if(i <= math.ceil(n/2)):\n",
    "                    self._bel[i] = max(0.25-0.01*(math.ceil(n/2)-i-1), 0)\n",
    "                else:\n",
    "                    self._bel[i] = min(0.75-0.01*(math.ceil(n/2)-i),1)\n",
    "            \n",
    "        elif(bel_type == \"extremely-polarized\"):\n",
    "            for i in range(n):\n",
    "                if(i < math.ceil(n/2)): #I put < instead of <= because it made more sense in the case n is odd\n",
    "                    self._bel[i] = 0\n",
    "                else:\n",
    "                    self._bel[i] = 1\n",
    "                    \n",
    "        elif(bel_type == \"trypartite\"):\n",
    "            for i in range(n):\n",
    "                if(i < math.floor(n/3)):\n",
    "                    self._bel[i] = 0\n",
    "                elif (i < math.ceil(2*(n/3))):\n",
    "                    self._bel[i] = 0.5\n",
    "                else:\n",
    "                    self._bel[i] = 1\n",
    "            \n",
    "    def print_graph(self):\n",
    "        for i in range(self._num_agts):\n",
    "            for j in range(self._num_agts):\n",
    "                print(self._graph[i][j], end = \" \")\n",
    "            print()\n",
    "    \n",
    "    def print_bel(self):\n",
    "        for i in self._bel:\n",
    "            print(i, end = \" \")\n",
    "        print()"
   ]
  },
  {
   "cell_type": "code",
   "execution_count": 125,
   "metadata": {},
   "outputs": [
    {
     "name": "stdout",
     "output_type": "stream",
     "text": [
      "0.0 0.111111111111 0.222222222222 0.333333333333 0.444444444444 0.555555555556 0.666666666667 0.777777777778 0.888888888889 1.0 \n",
      "0.21 0.22 0.23 0.24 0.25 0.26 0.76 0.77 0.78 0.79 \n",
      "0.0 0.0 0.0 0.0 0.0 1.0 1.0 1.0 1.0 1.0 \n",
      "0.0 0.0 0.0 0.5 0.5 0.5 0.5 1.0 1.0 1.0 \n"
     ]
    }
   ],
   "source": [
    "graph = InfGraph(num_agts = 10)\n",
    "\n",
    "graph.build_bel(bel_type=\"uniform\")\n",
    "graph.print_bel()\n",
    "graph.build_bel(bel_type=\"mildly-polarized\")\n",
    "graph.print_bel()\n",
    "graph.build_bel(bel_type=\"extremely-polarized\")\n",
    "graph.print_bel()\n",
    "graph.build_bel(bel_type=\"trypartite\")\n",
    "graph.print_bel()"
   ]
  },
  {
   "cell_type": "code",
   "execution_count": null,
   "metadata": {},
   "outputs": [],
   "source": []
  }
 ],
 "metadata": {
  "kernelspec": {
   "display_name": "Python 3",
   "language": "python",
   "name": "python3"
  },
  "language_info": {
   "codemirror_mode": {
    "name": "ipython",
    "version": 3
   },
   "file_extension": ".py",
   "mimetype": "text/x-python",
   "name": "python",
   "nbconvert_exporter": "python",
   "pygments_lexer": "ipython3",
   "version": "3.6.9"
  }
 },
 "nbformat": 4,
 "nbformat_minor": 4
}
