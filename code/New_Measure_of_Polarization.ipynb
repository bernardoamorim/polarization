{
 "cells": [
  {
   "cell_type": "code",
   "execution_count": 50,
   "metadata": {},
   "outputs": [],
   "source": [
    "import numpy as np\n",
    "import math\n",
    "import matplotlib.pyplot as plt\n",
    "import random as rnd\n",
    "\n",
    "class PolMeasure:\n",
    "    \n",
    "    def __init__(self, n_agts, dim=1):\n",
    "        self.n_agts = n_agts\n",
    "        self.dim = dim\n",
    "        self.opinions = np.zeros((n_agts, dim))\n",
    "        \n",
    "    def set_opinion(self, agt, opinion):\n",
    "        self.opinions[agt] = opinion\n",
    "        \n",
    "    def find_pairs(self):\n",
    "        pairs = []\n",
    "        for i in range(self.n_agts):\n",
    "            for j in range(self.n_agts):\n",
    "                pairs.append([self.opinions[i], self.opinions[j]])\n",
    "        return pairs\n",
    "    \n",
    "    def f(self, n):\n",
    "        return n**0.8\n",
    "    \n",
    "    def f_dists(self):\n",
    "        pairs = self.find_pairs()\n",
    "        sum = 0\n",
    "        for p in pairs:\n",
    "            sum += self.f(abs(p[0]-p[1]))\n",
    "        return sum/(self.dim**(1/2))"
   ]
  },
  {
   "cell_type": "code",
   "execution_count": 52,
   "metadata": {},
   "outputs": [
    {
     "name": "stdout",
     "output_type": "stream",
     "text": [
      "25\n",
      "[ 0.] [ 0.] \n",
      "[ 0.] [ 0.] \n",
      "[ 0.] [ 0.] \n",
      "[ 0.] [ 0.9] \n",
      "[ 0.] [ 0.9] \n",
      "[ 0.] [ 0.] \n",
      "[ 0.] [ 0.] \n",
      "[ 0.] [ 0.] \n",
      "[ 0.] [ 0.9] \n",
      "[ 0.] [ 0.9] \n",
      "[ 0.] [ 0.] \n",
      "[ 0.] [ 0.] \n",
      "[ 0.] [ 0.] \n",
      "[ 0.] [ 0.9] \n",
      "[ 0.] [ 0.9] \n",
      "[ 0.9] [ 0.] \n",
      "[ 0.9] [ 0.] \n",
      "[ 0.9] [ 0.] \n",
      "[ 0.9] [ 0.9] \n",
      "[ 0.9] [ 0.9] \n",
      "[ 0.9] [ 0.] \n",
      "[ 0.9] [ 0.] \n",
      "[ 0.9] [ 0.] \n",
      "[ 0.9] [ 0.9] \n",
      "[ 0.9] [ 0.9] \n",
      "[ 11.02999343]\n"
     ]
    }
   ],
   "source": [
    "pol = PolMeasure(n_agts=5)\n",
    "\n",
    "pairlist = pol.find_pairs()\n",
    "\n",
    "pol.set_opinion(0,[0])\n",
    "pol.set_opinion(1,[0])\n",
    "pol.set_opinion(2,[0])\n",
    "pol.set_opinion(3,[0.9])\n",
    "pol.set_opinion(4,[0.9])\n",
    "\n",
    "print(len(pairlist))\n",
    "\n",
    "for i in pairlist:\n",
    "    for j in i:\n",
    "        print(j,end=' ')\n",
    "    print()\n",
    "    \n",
    "print(pol.f_dists())"
   ]
  },
  {
   "cell_type": "code",
   "execution_count": null,
   "metadata": {},
   "outputs": [],
   "source": []
  }
 ],
 "metadata": {
  "kernelspec": {
   "display_name": "Python 3",
   "language": "python",
   "name": "python3"
  },
  "language_info": {
   "codemirror_mode": {
    "name": "ipython",
    "version": 3
   },
   "file_extension": ".py",
   "mimetype": "text/x-python",
   "name": "python",
   "nbconvert_exporter": "python",
   "pygments_lexer": "ipython3",
   "version": "3.6.9"
  }
 },
 "nbformat": 4,
 "nbformat_minor": 4
}
