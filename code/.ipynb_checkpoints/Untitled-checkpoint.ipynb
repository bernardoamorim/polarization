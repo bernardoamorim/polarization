{
 "cells": [
  {
   "cell_type": "code",
   "execution_count": 55,
   "metadata": {},
   "outputs": [],
   "source": [
    "import math\n",
    "# José's Function\n",
    "\n",
    "def comb(n,m):\n",
    "    if(n < m):\n",
    "        return 0\n",
    "    else:\n",
    "        return math.factorial(n)/(math.factorial(m)*math.factorial(n-m))\n",
    "\n",
    "def index(composite, cardinality):\n",
    "    \"\"\"Receives a list (composite) with elements in range(1,cardinality+1)\n",
    "    and returns its index according to the rules of Subjective Logic.\n",
    "    If you want to index the elements starting from zero just substract\n",
    "    one in the end. If the elements in set are indexed from zero call me \n",
    "    to fix it. If a factorial vector is allowed the complexity will go from\n",
    "    O(n^2) to O(n). But it doesn't make a lot of diference since cardinality \n",
    "    can't be greater than 70.\"\"\"\n",
    "    \n",
    "    ceil = 0\n",
    "    for i in range(1,len(composite)+1):\n",
    "        ceil += comb(cardinality, i)\n",
    "    \n",
    "    left = len(composite)\n",
    "    for element in composite:\n",
    "        pos_elem = cardinality - element\n",
    "        ceil -= comb(pos_elem, left)\n",
    "        left -= 1\n",
    "    \n",
    "    return ceil"
   ]
  },
  {
   "cell_type": "code",
   "execution_count": 61,
   "metadata": {},
   "outputs": [
    {
     "name": "stdout",
     "output_type": "stream",
     "text": [
      "1.0\n",
      "2.0\n",
      "3.0\n",
      "4.0\n",
      "5.0\n",
      "6.0\n",
      "7.0\n",
      "8.0\n",
      "9.0\n",
      "10.0\n",
      "11.0\n",
      "12.0\n",
      "13.0\n",
      "14.0\n"
     ]
    }
   ],
   "source": [
    "test_list = [1]\n",
    "print(index(test_list,4))\n",
    "test_list = [2]\n",
    "print(index(test_list,4))\n",
    "test_list = [3]\n",
    "print(index(test_list,4))\n",
    "test_list = [4]\n",
    "print(index(test_list,4))\n",
    "test_list = [1,2]\n",
    "print(index(test_list,4))\n",
    "test_list = [1,3]\n",
    "print(index(test_list,4))\n",
    "test_list = [1,4]\n",
    "print(index(test_list,4))\n",
    "test_list = [2,3]\n",
    "print(index(test_list,4))\n",
    "test_list = [2,4]\n",
    "print(index(test_list,4))\n",
    "test_list = [3,4]\n",
    "print(index(test_list,4))\n",
    "test_list = [1,2,3]\n",
    "print(index(test_list,4))\n",
    "test_list = [1,2,4]\n",
    "print(index(test_list,4))\n",
    "test_list = [1,3,4]\n",
    "print(index(test_list,4))\n",
    "test_list = [2,3,4]\n",
    "print(index(test_list,4))"
   ]
  },
  {
   "cell_type": "code",
   "execution_count": null,
   "metadata": {},
   "outputs": [],
   "source": []
  },
  {
   "cell_type": "code",
   "execution_count": null,
   "metadata": {},
   "outputs": [],
   "source": []
  }
 ],
 "metadata": {
  "kernelspec": {
   "display_name": "Python 3",
   "language": "python",
   "name": "python3"
  },
  "language_info": {
   "codemirror_mode": {
    "name": "ipython",
    "version": 3
   },
   "file_extension": ".py",
   "mimetype": "text/x-python",
   "name": "python",
   "nbconvert_exporter": "python",
   "pygments_lexer": "ipython3",
   "version": "3.6.9"
  }
 },
 "nbformat": 4,
 "nbformat_minor": 4
}
